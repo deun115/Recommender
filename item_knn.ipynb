{
 "cells": [
  {
   "cell_type": "code",
   "execution_count": 1,
   "id": "b4a40657-f5c8-4642-9337-ea610b1fd56b",
   "metadata": {},
   "outputs": [
    {
     "name": "stdout",
     "output_type": "stream",
     "text": [
      "Requirement already satisfied: pandas in /opt/homebrew/lib/python3.12/site-packages (2.2.1)\n",
      "Requirement already satisfied: numpy<2,>=1.26.0 in /opt/homebrew/lib/python3.12/site-packages (from pandas) (1.26.4)\n",
      "Requirement already satisfied: python-dateutil>=2.8.2 in /opt/homebrew/lib/python3.12/site-packages (from pandas) (2.8.2)\n",
      "Requirement already satisfied: pytz>=2020.1 in /opt/homebrew/lib/python3.12/site-packages (from pandas) (2024.1)\n",
      "Requirement already satisfied: tzdata>=2022.7 in /opt/homebrew/lib/python3.12/site-packages (from pandas) (2024.1)\n",
      "Requirement already satisfied: six>=1.5 in /opt/homebrew/lib/python3.12/site-packages (from python-dateutil>=2.8.2->pandas) (1.16.0)\n"
     ]
    }
   ],
   "source": [
    "!pip install pandas"
   ]
  },
  {
   "cell_type": "code",
   "execution_count": 2,
   "id": "db9fa081-565b-4833-ad28-5434ba8e7cc6",
   "metadata": {},
   "outputs": [],
   "source": [
    "import pandas as pd"
   ]
  },
  {
   "cell_type": "code",
   "execution_count": 4,
   "id": "045e9742-1b1e-4d55-a6eb-ce8471ca04bb",
   "metadata": {},
   "outputs": [],
   "source": [
    "main_path = \"/Users/yang-eunseo/Desktop/IEUM-ai/dataset_2023/Training/TL_csv\""
   ]
  },
  {
   "cell_type": "code",
   "execution_count": 7,
   "id": "6a6c1555-8bae-4d41-8da2-085862251cf4",
   "metadata": {},
   "outputs": [],
   "source": [
    "tn_visit_area_info = pd.read_csv(main_path + '/tn_visit_area_info_방문지정보_E.csv')"
   ]
  },
  {
   "cell_type": "code",
   "execution_count": 9,
   "id": "d9ab8903-11bb-4b83-9aba-6e1a74707f60",
   "metadata": {},
   "outputs": [
    {
     "data": {
      "text/plain": [
       "Index(['VISIT_AREA_ID', 'TRAVEL_ID', 'VISIT_ORDER', 'VISIT_AREA_NM',\n",
       "       'VISIT_START_YMD', 'VISIT_END_YMD', 'ROAD_NM_ADDR', 'LOTNO_ADDR',\n",
       "       'X_COORD', 'Y_COORD', 'ROAD_NM_CD', 'LOTNO_CD', 'POI_ID', 'POI_NM',\n",
       "       'RESIDENCE_TIME_MIN', 'VISIT_AREA_TYPE_CD', 'REVISIT_YN',\n",
       "       'VISIT_CHC_REASON_CD', 'LODGING_TYPE_CD', 'DGSTFN', 'REVISIT_INTENTION',\n",
       "       'RCMDTN_INTENTION', 'SGG_CD'],\n",
       "      dtype='object')"
      ]
     },
     "execution_count": 9,
     "metadata": {},
     "output_type": "execute_result"
    }
   ],
   "source": [
    "tn_visit_area_info.columns"
   ]
  },
  {
   "cell_type": "code",
   "execution_count": 10,
   "id": "5fbcece3-f291-4e73-afce-4143b95c68f3",
   "metadata": {},
   "outputs": [
    {
     "data": {
      "text/html": [
       "<div>\n",
       "<style scoped>\n",
       "    .dataframe tbody tr th:only-of-type {\n",
       "        vertical-align: middle;\n",
       "    }\n",
       "\n",
       "    .dataframe tbody tr th {\n",
       "        vertical-align: top;\n",
       "    }\n",
       "\n",
       "    .dataframe thead th {\n",
       "        text-align: right;\n",
       "    }\n",
       "</style>\n",
       "<table border=\"1\" class=\"dataframe\">\n",
       "  <thead>\n",
       "    <tr style=\"text-align: right;\">\n",
       "      <th></th>\n",
       "      <th>VISIT_AREA_ID</th>\n",
       "      <th>TRAVEL_ID</th>\n",
       "      <th>VISIT_ORDER</th>\n",
       "      <th>VISIT_AREA_NM</th>\n",
       "      <th>VISIT_START_YMD</th>\n",
       "      <th>VISIT_END_YMD</th>\n",
       "      <th>ROAD_NM_ADDR</th>\n",
       "      <th>LOTNO_ADDR</th>\n",
       "      <th>X_COORD</th>\n",
       "      <th>Y_COORD</th>\n",
       "      <th>...</th>\n",
       "      <th>POI_NM</th>\n",
       "      <th>RESIDENCE_TIME_MIN</th>\n",
       "      <th>VISIT_AREA_TYPE_CD</th>\n",
       "      <th>REVISIT_YN</th>\n",
       "      <th>VISIT_CHC_REASON_CD</th>\n",
       "      <th>LODGING_TYPE_CD</th>\n",
       "      <th>DGSTFN</th>\n",
       "      <th>REVISIT_INTENTION</th>\n",
       "      <th>RCMDTN_INTENTION</th>\n",
       "      <th>SGG_CD</th>\n",
       "    </tr>\n",
       "  </thead>\n",
       "  <tbody>\n",
       "    <tr>\n",
       "      <th>1</th>\n",
       "      <td>2304300002</td>\n",
       "      <td>e_e000004</td>\n",
       "      <td>2</td>\n",
       "      <td>화성 관광열차 안내소 연무대 매표소</td>\n",
       "      <td>2023-04-30</td>\n",
       "      <td>2023-04-30</td>\n",
       "      <td>경기 수원시 팔달구 창룡대로103번길 20</td>\n",
       "      <td>경기 수원시 팔달구 매향동 3-32</td>\n",
       "      <td>127.023339</td>\n",
       "      <td>37.287878</td>\n",
       "      <td>...</td>\n",
       "      <td>동대문종합시장 악세서리부자재시장</td>\n",
       "      <td>60.0</td>\n",
       "      <td>2</td>\n",
       "      <td>N</td>\n",
       "      <td>10.0</td>\n",
       "      <td>NaN</td>\n",
       "      <td>4.0</td>\n",
       "      <td>3.0</td>\n",
       "      <td>4.0</td>\n",
       "      <td>NaN</td>\n",
       "    </tr>\n",
       "    <tr>\n",
       "      <th>2</th>\n",
       "      <td>2304300003</td>\n",
       "      <td>e_e000004</td>\n",
       "      <td>3</td>\n",
       "      <td>창룡문</td>\n",
       "      <td>2023-04-30</td>\n",
       "      <td>2023-04-30</td>\n",
       "      <td>NaN</td>\n",
       "      <td>경기 수원시 팔달구 남수동</td>\n",
       "      <td>127.025143</td>\n",
       "      <td>37.287791</td>\n",
       "      <td>...</td>\n",
       "      <td>창룡문</td>\n",
       "      <td>30.0</td>\n",
       "      <td>2</td>\n",
       "      <td>N</td>\n",
       "      <td>1.0</td>\n",
       "      <td>NaN</td>\n",
       "      <td>4.0</td>\n",
       "      <td>4.0</td>\n",
       "      <td>4.0</td>\n",
       "      <td>NaN</td>\n",
       "    </tr>\n",
       "    <tr>\n",
       "      <th>3</th>\n",
       "      <td>2304300004</td>\n",
       "      <td>e_e000004</td>\n",
       "      <td>4</td>\n",
       "      <td>수원 화성 화홍문</td>\n",
       "      <td>2023-04-30</td>\n",
       "      <td>2023-04-30</td>\n",
       "      <td>NaN</td>\n",
       "      <td>경기 수원시 팔달구 북수동 9000-1</td>\n",
       "      <td>127.017626</td>\n",
       "      <td>37.287546</td>\n",
       "      <td>...</td>\n",
       "      <td>수원화성 화홍문</td>\n",
       "      <td>60.0</td>\n",
       "      <td>2</td>\n",
       "      <td>N</td>\n",
       "      <td>10.0</td>\n",
       "      <td>NaN</td>\n",
       "      <td>4.0</td>\n",
       "      <td>3.0</td>\n",
       "      <td>3.0</td>\n",
       "      <td>NaN</td>\n",
       "    </tr>\n",
       "    <tr>\n",
       "      <th>8</th>\n",
       "      <td>2304300004</td>\n",
       "      <td>e_e000006</td>\n",
       "      <td>4</td>\n",
       "      <td>경춘선 자전거길</td>\n",
       "      <td>2023-04-30</td>\n",
       "      <td>2023-04-30</td>\n",
       "      <td>NaN</td>\n",
       "      <td>경기 가평군 청평면 하천리 158-2</td>\n",
       "      <td>127.436200</td>\n",
       "      <td>37.745958</td>\n",
       "      <td>...</td>\n",
       "      <td>경춘선자전거길</td>\n",
       "      <td>150.0</td>\n",
       "      <td>1</td>\n",
       "      <td>Y</td>\n",
       "      <td>4.0</td>\n",
       "      <td>NaN</td>\n",
       "      <td>5.0</td>\n",
       "      <td>5.0</td>\n",
       "      <td>5.0</td>\n",
       "      <td>NaN</td>\n",
       "    </tr>\n",
       "    <tr>\n",
       "      <th>17</th>\n",
       "      <td>2304290002</td>\n",
       "      <td>e_e000009</td>\n",
       "      <td>2</td>\n",
       "      <td>농협안성팜랜드</td>\n",
       "      <td>2023-04-29</td>\n",
       "      <td>2023-04-29</td>\n",
       "      <td>경기 안성시 공도읍 대신두길 28</td>\n",
       "      <td>경기 안성시 공도읍 신두리 451</td>\n",
       "      <td>127.193517</td>\n",
       "      <td>36.991317</td>\n",
       "      <td>...</td>\n",
       "      <td>안성팜랜드</td>\n",
       "      <td>30.0</td>\n",
       "      <td>6</td>\n",
       "      <td>N</td>\n",
       "      <td>1.0</td>\n",
       "      <td>NaN</td>\n",
       "      <td>4.0</td>\n",
       "      <td>4.0</td>\n",
       "      <td>4.0</td>\n",
       "      <td>NaN</td>\n",
       "    </tr>\n",
       "  </tbody>\n",
       "</table>\n",
       "<p>5 rows × 23 columns</p>\n",
       "</div>"
      ],
      "text/plain": [
       "    VISIT_AREA_ID  TRAVEL_ID  VISIT_ORDER        VISIT_AREA_NM  \\\n",
       "1      2304300002  e_e000004            2  화성 관광열차 안내소 연무대 매표소   \n",
       "2      2304300003  e_e000004            3                  창룡문   \n",
       "3      2304300004  e_e000004            4            수원 화성 화홍문   \n",
       "8      2304300004  e_e000006            4             경춘선 자전거길   \n",
       "17     2304290002  e_e000009            2              농협안성팜랜드   \n",
       "\n",
       "   VISIT_START_YMD VISIT_END_YMD             ROAD_NM_ADDR  \\\n",
       "1       2023-04-30    2023-04-30  경기 수원시 팔달구 창룡대로103번길 20   \n",
       "2       2023-04-30    2023-04-30                      NaN   \n",
       "3       2023-04-30    2023-04-30                      NaN   \n",
       "8       2023-04-30    2023-04-30                      NaN   \n",
       "17      2023-04-29    2023-04-29       경기 안성시 공도읍 대신두길 28   \n",
       "\n",
       "               LOTNO_ADDR     X_COORD    Y_COORD  ...             POI_NM  \\\n",
       "1     경기 수원시 팔달구 매향동 3-32  127.023339  37.287878  ...  동대문종합시장 악세서리부자재시장   \n",
       "2          경기 수원시 팔달구 남수동  127.025143  37.287791  ...                창룡문   \n",
       "3   경기 수원시 팔달구 북수동 9000-1  127.017626  37.287546  ...           수원화성 화홍문   \n",
       "8    경기 가평군 청평면 하천리 158-2  127.436200  37.745958  ...            경춘선자전거길   \n",
       "17     경기 안성시 공도읍 신두리 451  127.193517  36.991317  ...              안성팜랜드   \n",
       "\n",
       "    RESIDENCE_TIME_MIN VISIT_AREA_TYPE_CD REVISIT_YN  VISIT_CHC_REASON_CD  \\\n",
       "1                 60.0                  2          N                 10.0   \n",
       "2                 30.0                  2          N                  1.0   \n",
       "3                 60.0                  2          N                 10.0   \n",
       "8                150.0                  1          Y                  4.0   \n",
       "17                30.0                  6          N                  1.0   \n",
       "\n",
       "    LODGING_TYPE_CD DGSTFN  REVISIT_INTENTION  RCMDTN_INTENTION  SGG_CD  \n",
       "1               NaN    4.0                3.0               4.0     NaN  \n",
       "2               NaN    4.0                4.0               4.0     NaN  \n",
       "3               NaN    4.0                3.0               3.0     NaN  \n",
       "8               NaN    5.0                5.0               5.0     NaN  \n",
       "17              NaN    4.0                4.0               4.0     NaN  \n",
       "\n",
       "[5 rows x 23 columns]"
      ]
     },
     "execution_count": 10,
     "metadata": {},
     "output_type": "execute_result"
    }
   ],
   "source": [
    "# Remove the rows that is not a travel area (ref. E_capital_model.py)\n",
    "# See tc_codeb_코드B.csv for the meaning of the codes\n",
    "tn_visit_area_info_travel = tn_visit_area_info[(tn_visit_area_info['VISIT_AREA_TYPE_CD'] == 1) |\n",
    "   (tn_visit_area_info['VISIT_AREA_TYPE_CD'] == 2) |(tn_visit_area_info['VISIT_AREA_TYPE_CD'] == 3) | (tn_visit_area_info['VISIT_AREA_TYPE_CD'] == 4) |\n",
    "   (tn_visit_area_info['VISIT_AREA_TYPE_CD'] == 5) | (tn_visit_area_info['VISIT_AREA_TYPE_CD'] == 6) |(tn_visit_area_info['VISIT_AREA_TYPE_CD'] == 7) |\n",
    "   (tn_visit_area_info['VISIT_AREA_TYPE_CD'] == 8)]\n",
    "# tn_visit_area_info_travel = tn_visit_area_info_travel.groupby('VISIT_AREA_NM').filter(lambda x: len(x) > 1)\n",
    "tn_visit_area_info_travel.head()"
   ]
  },
  {
   "cell_type": "code",
   "execution_count": 11,
   "id": "d086b3fe-75f3-46ac-9392-3ae5f9dd5701",
   "metadata": {},
   "outputs": [
    {
     "data": {
      "text/html": [
       "<div>\n",
       "<style scoped>\n",
       "    .dataframe tbody tr th:only-of-type {\n",
       "        vertical-align: middle;\n",
       "    }\n",
       "\n",
       "    .dataframe tbody tr th {\n",
       "        vertical-align: top;\n",
       "    }\n",
       "\n",
       "    .dataframe thead th {\n",
       "        text-align: right;\n",
       "    }\n",
       "</style>\n",
       "<table border=\"1\" class=\"dataframe\">\n",
       "  <thead>\n",
       "    <tr style=\"text-align: right;\">\n",
       "      <th></th>\n",
       "      <th>VISIT_AREA_ID</th>\n",
       "      <th>TRAVEL_ID</th>\n",
       "      <th>VISIT_ORDER</th>\n",
       "      <th>VISIT_AREA_NM</th>\n",
       "      <th>VISIT_START_YMD</th>\n",
       "      <th>VISIT_END_YMD</th>\n",
       "      <th>ROAD_NM_ADDR</th>\n",
       "      <th>LOTNO_ADDR</th>\n",
       "      <th>X_COORD</th>\n",
       "      <th>Y_COORD</th>\n",
       "      <th>...</th>\n",
       "      <th>POI_NM</th>\n",
       "      <th>RESIDENCE_TIME_MIN</th>\n",
       "      <th>VISIT_AREA_TYPE_CD</th>\n",
       "      <th>REVISIT_YN</th>\n",
       "      <th>VISIT_CHC_REASON_CD</th>\n",
       "      <th>LODGING_TYPE_CD</th>\n",
       "      <th>DGSTFN</th>\n",
       "      <th>REVISIT_INTENTION</th>\n",
       "      <th>RCMDTN_INTENTION</th>\n",
       "      <th>SGG_CD</th>\n",
       "    </tr>\n",
       "  </thead>\n",
       "  <tbody>\n",
       "    <tr>\n",
       "      <th>1</th>\n",
       "      <td>2304300002</td>\n",
       "      <td>e_e000004</td>\n",
       "      <td>2</td>\n",
       "      <td>화성 관광열차 안내소 연무대 매표소</td>\n",
       "      <td>2023-04-30</td>\n",
       "      <td>2023-04-30</td>\n",
       "      <td>경기 수원시 팔달구 창룡대로103번길 20</td>\n",
       "      <td>경기 수원시 팔달구 매향동 3-32</td>\n",
       "      <td>127.023339</td>\n",
       "      <td>37.287878</td>\n",
       "      <td>...</td>\n",
       "      <td>동대문종합시장 악세서리부자재시장</td>\n",
       "      <td>60.0</td>\n",
       "      <td>2</td>\n",
       "      <td>N</td>\n",
       "      <td>10.0</td>\n",
       "      <td>NaN</td>\n",
       "      <td>4.0</td>\n",
       "      <td>3.0</td>\n",
       "      <td>4.0</td>\n",
       "      <td>NaN</td>\n",
       "    </tr>\n",
       "    <tr>\n",
       "      <th>2</th>\n",
       "      <td>2304300003</td>\n",
       "      <td>e_e000004</td>\n",
       "      <td>3</td>\n",
       "      <td>창룡문</td>\n",
       "      <td>2023-04-30</td>\n",
       "      <td>2023-04-30</td>\n",
       "      <td>NaN</td>\n",
       "      <td>경기 수원시 팔달구 남수동</td>\n",
       "      <td>127.025143</td>\n",
       "      <td>37.287791</td>\n",
       "      <td>...</td>\n",
       "      <td>창룡문</td>\n",
       "      <td>30.0</td>\n",
       "      <td>2</td>\n",
       "      <td>N</td>\n",
       "      <td>1.0</td>\n",
       "      <td>NaN</td>\n",
       "      <td>4.0</td>\n",
       "      <td>4.0</td>\n",
       "      <td>4.0</td>\n",
       "      <td>NaN</td>\n",
       "    </tr>\n",
       "    <tr>\n",
       "      <th>3</th>\n",
       "      <td>2304300004</td>\n",
       "      <td>e_e000004</td>\n",
       "      <td>4</td>\n",
       "      <td>수원 화성 화홍문</td>\n",
       "      <td>2023-04-30</td>\n",
       "      <td>2023-04-30</td>\n",
       "      <td>NaN</td>\n",
       "      <td>경기 수원시 팔달구 북수동 9000-1</td>\n",
       "      <td>127.017626</td>\n",
       "      <td>37.287546</td>\n",
       "      <td>...</td>\n",
       "      <td>수원화성 화홍문</td>\n",
       "      <td>60.0</td>\n",
       "      <td>2</td>\n",
       "      <td>N</td>\n",
       "      <td>10.0</td>\n",
       "      <td>NaN</td>\n",
       "      <td>4.0</td>\n",
       "      <td>3.0</td>\n",
       "      <td>3.0</td>\n",
       "      <td>NaN</td>\n",
       "    </tr>\n",
       "    <tr>\n",
       "      <th>8</th>\n",
       "      <td>2304300004</td>\n",
       "      <td>e_e000006</td>\n",
       "      <td>4</td>\n",
       "      <td>경춘선 자전거길</td>\n",
       "      <td>2023-04-30</td>\n",
       "      <td>2023-04-30</td>\n",
       "      <td>NaN</td>\n",
       "      <td>경기 가평군 청평면 하천리 158-2</td>\n",
       "      <td>127.436200</td>\n",
       "      <td>37.745958</td>\n",
       "      <td>...</td>\n",
       "      <td>경춘선자전거길</td>\n",
       "      <td>150.0</td>\n",
       "      <td>1</td>\n",
       "      <td>Y</td>\n",
       "      <td>4.0</td>\n",
       "      <td>NaN</td>\n",
       "      <td>5.0</td>\n",
       "      <td>5.0</td>\n",
       "      <td>5.0</td>\n",
       "      <td>NaN</td>\n",
       "    </tr>\n",
       "    <tr>\n",
       "      <th>17</th>\n",
       "      <td>2304290002</td>\n",
       "      <td>e_e000009</td>\n",
       "      <td>2</td>\n",
       "      <td>농협안성팜랜드</td>\n",
       "      <td>2023-04-29</td>\n",
       "      <td>2023-04-29</td>\n",
       "      <td>경기 안성시 공도읍 대신두길 28</td>\n",
       "      <td>경기 안성시 공도읍 신두리 451</td>\n",
       "      <td>127.193517</td>\n",
       "      <td>36.991317</td>\n",
       "      <td>...</td>\n",
       "      <td>안성팜랜드</td>\n",
       "      <td>30.0</td>\n",
       "      <td>6</td>\n",
       "      <td>N</td>\n",
       "      <td>1.0</td>\n",
       "      <td>NaN</td>\n",
       "      <td>4.0</td>\n",
       "      <td>4.0</td>\n",
       "      <td>4.0</td>\n",
       "      <td>NaN</td>\n",
       "    </tr>\n",
       "  </tbody>\n",
       "</table>\n",
       "<p>5 rows × 23 columns</p>\n",
       "</div>"
      ],
      "text/plain": [
       "    VISIT_AREA_ID  TRAVEL_ID  VISIT_ORDER        VISIT_AREA_NM  \\\n",
       "1      2304300002  e_e000004            2  화성 관광열차 안내소 연무대 매표소   \n",
       "2      2304300003  e_e000004            3                  창룡문   \n",
       "3      2304300004  e_e000004            4            수원 화성 화홍문   \n",
       "8      2304300004  e_e000006            4             경춘선 자전거길   \n",
       "17     2304290002  e_e000009            2              농협안성팜랜드   \n",
       "\n",
       "   VISIT_START_YMD VISIT_END_YMD             ROAD_NM_ADDR  \\\n",
       "1       2023-04-30    2023-04-30  경기 수원시 팔달구 창룡대로103번길 20   \n",
       "2       2023-04-30    2023-04-30                      NaN   \n",
       "3       2023-04-30    2023-04-30                      NaN   \n",
       "8       2023-04-30    2023-04-30                      NaN   \n",
       "17      2023-04-29    2023-04-29       경기 안성시 공도읍 대신두길 28   \n",
       "\n",
       "               LOTNO_ADDR     X_COORD    Y_COORD  ...             POI_NM  \\\n",
       "1     경기 수원시 팔달구 매향동 3-32  127.023339  37.287878  ...  동대문종합시장 악세서리부자재시장   \n",
       "2          경기 수원시 팔달구 남수동  127.025143  37.287791  ...                창룡문   \n",
       "3   경기 수원시 팔달구 북수동 9000-1  127.017626  37.287546  ...           수원화성 화홍문   \n",
       "8    경기 가평군 청평면 하천리 158-2  127.436200  37.745958  ...            경춘선자전거길   \n",
       "17     경기 안성시 공도읍 신두리 451  127.193517  36.991317  ...              안성팜랜드   \n",
       "\n",
       "    RESIDENCE_TIME_MIN VISIT_AREA_TYPE_CD REVISIT_YN  VISIT_CHC_REASON_CD  \\\n",
       "1                 60.0                  2          N                 10.0   \n",
       "2                 30.0                  2          N                  1.0   \n",
       "3                 60.0                  2          N                 10.0   \n",
       "8                150.0                  1          Y                  4.0   \n",
       "17                30.0                  6          N                  1.0   \n",
       "\n",
       "    LODGING_TYPE_CD DGSTFN  REVISIT_INTENTION  RCMDTN_INTENTION  SGG_CD  \n",
       "1               NaN    4.0                3.0               4.0     NaN  \n",
       "2               NaN    4.0                4.0               4.0     NaN  \n",
       "3               NaN    4.0                3.0               3.0     NaN  \n",
       "8               NaN    5.0                5.0               5.0     NaN  \n",
       "17              NaN    4.0                4.0               4.0     NaN  \n",
       "\n",
       "[5 rows x 23 columns]"
      ]
     },
     "execution_count": 11,
     "metadata": {},
     "output_type": "execute_result"
    }
   ],
   "source": [
    "tn_visit_area_info_travel = (tn_visit_area_info_travel[\n",
    "    tn_visit_area_info_travel['ROAD_NM_ADDR'].notna() |\n",
    "    tn_visit_area_info_travel['LOTNO_CD'].notna() |\n",
    "    tn_visit_area_info_travel['POI_ID'].notna()])\n",
    "tn_visit_area_info_travel.head()"
   ]
  },
  {
   "cell_type": "markdown",
   "id": "3cdb514e-694e-4772-ac2f-5e0aa7cb8588",
   "metadata": {},
   "source": [
    "## The Interaction Matrix"
   ]
  },
  {
   "cell_type": "code",
   "execution_count": 12,
   "id": "bd303569-771e-4472-b12c-c4411d863ba5",
   "metadata": {},
   "outputs": [],
   "source": [
    "tn_visit_area_info_travel.to_csv('./tn_visit_area_info_travel.csv', index=False)"
   ]
  },
  {
   "cell_type": "code",
   "execution_count": 13,
   "id": "93cf77d9-4cc6-4672-9731-4f3330b0a45d",
   "metadata": {},
   "outputs": [
    {
     "data": {
      "text/plain": [
       "VISIT_AREA_ID                       2304300002\n",
       "TRAVEL_ID                            e_e000004\n",
       "VISIT_ORDER                                  2\n",
       "VISIT_AREA_NM              화성 관광열차 안내소 연무대 매표소\n",
       "VISIT_START_YMD                     2023-04-30\n",
       "VISIT_END_YMD                       2023-04-30\n",
       "ROAD_NM_ADDR           경기 수원시 팔달구 창룡대로103번길 20\n",
       "LOTNO_ADDR                 경기 수원시 팔달구 매향동 3-32\n",
       "X_COORD                             127.023339\n",
       "Y_COORD                              37.287878\n",
       "ROAD_NM_CD                                 NaN\n",
       "LOTNO_CD                                   NaN\n",
       "POI_ID                       POI01000000ALZU7R\n",
       "POI_NM                       동대문종합시장 악세서리부자재시장\n",
       "RESIDENCE_TIME_MIN                        60.0\n",
       "VISIT_AREA_TYPE_CD                           2\n",
       "REVISIT_YN                                   N\n",
       "VISIT_CHC_REASON_CD                       10.0\n",
       "LODGING_TYPE_CD                            NaN\n",
       "DGSTFN                                     4.0\n",
       "REVISIT_INTENTION                          3.0\n",
       "RCMDTN_INTENTION                           4.0\n",
       "SGG_CD                                     NaN\n",
       "Name: 1, dtype: object"
      ]
     },
     "execution_count": 13,
     "metadata": {},
     "output_type": "execute_result"
    }
   ],
   "source": [
    "visit_area_sample = tn_visit_area_info_travel.iloc[0]\n",
    "visit_area_sample"
   ]
  },
  {
   "cell_type": "code",
   "execution_count": 14,
   "id": "cf4d0fc8-be00-42c3-9d3f-6fe8919e9da4",
   "metadata": {},
   "outputs": [],
   "source": [
    "tn_travel = pd.read_csv(main_path + '/tn_travel_여행_E.csv')"
   ]
  },
  {
   "cell_type": "code",
   "execution_count": 15,
   "id": "53a8ca59-49b2-4c5e-bfab-67c49a03aa17",
   "metadata": {},
   "outputs": [
    {
     "data": {
      "text/html": [
       "<div>\n",
       "<style scoped>\n",
       "    .dataframe tbody tr th:only-of-type {\n",
       "        vertical-align: middle;\n",
       "    }\n",
       "\n",
       "    .dataframe tbody tr th {\n",
       "        vertical-align: top;\n",
       "    }\n",
       "\n",
       "    .dataframe thead th {\n",
       "        text-align: right;\n",
       "    }\n",
       "</style>\n",
       "<table border=\"1\" class=\"dataframe\">\n",
       "  <thead>\n",
       "    <tr style=\"text-align: right;\">\n",
       "      <th></th>\n",
       "      <th>TRAVEL_ID</th>\n",
       "      <th>TRAVEL_NM</th>\n",
       "      <th>TRAVELER_ID</th>\n",
       "      <th>TRAVEL_PURPOSE</th>\n",
       "      <th>TRAVEL_START_YMD</th>\n",
       "      <th>TRAVEL_END_YMD</th>\n",
       "      <th>MVMN_NM</th>\n",
       "      <th>TRAVEL_PERSONA</th>\n",
       "      <th>TRAVEL_MISSION</th>\n",
       "      <th>TRAVEL_MISSION_CHECK</th>\n",
       "    </tr>\n",
       "  </thead>\n",
       "  <tbody>\n",
       "    <tr>\n",
       "      <th>0</th>\n",
       "      <td>e_e000004</td>\n",
       "      <td>E03</td>\n",
       "      <td>e000004</td>\n",
       "      <td>3</td>\n",
       "      <td>2023-04-30</td>\n",
       "      <td>2023-05-01</td>\n",
       "      <td>NaN</td>\n",
       "      <td>서울 외 수도권 방문/수도권 거주/40세 이상/자녀동반/일반미션</td>\n",
       "      <td>3</td>\n",
       "      <td>3;4;11</td>\n",
       "    </tr>\n",
       "    <tr>\n",
       "      <th>1</th>\n",
       "      <td>e_e000006</td>\n",
       "      <td>E03</td>\n",
       "      <td>e000006</td>\n",
       "      <td>21</td>\n",
       "      <td>2023-04-30</td>\n",
       "      <td>2023-05-02</td>\n",
       "      <td>NaN</td>\n",
       "      <td>경기 방문/거주지 구분 없음/39세 이하/특별미션</td>\n",
       "      <td>21</td>\n",
       "      <td>21;10;27</td>\n",
       "    </tr>\n",
       "    <tr>\n",
       "      <th>2</th>\n",
       "      <td>e_e000009</td>\n",
       "      <td>E03</td>\n",
       "      <td>e000009</td>\n",
       "      <td>2;4</td>\n",
       "      <td>2023-04-29</td>\n",
       "      <td>2023-05-01</td>\n",
       "      <td>NaN</td>\n",
       "      <td>서울 외 수도권 방문/수도권 거주/39세 이하/커플/일반미션</td>\n",
       "      <td>2;4</td>\n",
       "      <td>22;1;7</td>\n",
       "    </tr>\n",
       "    <tr>\n",
       "      <th>3</th>\n",
       "      <td>e_e000010</td>\n",
       "      <td>E01</td>\n",
       "      <td>e000010</td>\n",
       "      <td>3;6</td>\n",
       "      <td>2023-04-29</td>\n",
       "      <td>2023-05-01</td>\n",
       "      <td>NaN</td>\n",
       "      <td>서울 방문/수도권 외 거주/39세 이하/나홀로 여행/일반미션</td>\n",
       "      <td>3;6</td>\n",
       "      <td>6;3;1</td>\n",
       "    </tr>\n",
       "    <tr>\n",
       "      <th>4</th>\n",
       "      <td>e_e000011</td>\n",
       "      <td>E01</td>\n",
       "      <td>e000011</td>\n",
       "      <td>1;21</td>\n",
       "      <td>2023-04-28</td>\n",
       "      <td>2023-05-01</td>\n",
       "      <td>NaN</td>\n",
       "      <td>서울 방문/수도권 외 거주/40세 이상/커플/일반미션</td>\n",
       "      <td>1;21</td>\n",
       "      <td>6;2;24</td>\n",
       "    </tr>\n",
       "  </tbody>\n",
       "</table>\n",
       "</div>"
      ],
      "text/plain": [
       "   TRAVEL_ID TRAVEL_NM TRAVELER_ID TRAVEL_PURPOSE TRAVEL_START_YMD  \\\n",
       "0  e_e000004       E03     e000004              3       2023-04-30   \n",
       "1  e_e000006       E03     e000006             21       2023-04-30   \n",
       "2  e_e000009       E03     e000009            2;4       2023-04-29   \n",
       "3  e_e000010       E01     e000010            3;6       2023-04-29   \n",
       "4  e_e000011       E01     e000011           1;21       2023-04-28   \n",
       "\n",
       "  TRAVEL_END_YMD MVMN_NM                       TRAVEL_PERSONA TRAVEL_MISSION  \\\n",
       "0     2023-05-01     NaN  서울 외 수도권 방문/수도권 거주/40세 이상/자녀동반/일반미션              3   \n",
       "1     2023-05-02     NaN          경기 방문/거주지 구분 없음/39세 이하/특별미션             21   \n",
       "2     2023-05-01     NaN    서울 외 수도권 방문/수도권 거주/39세 이하/커플/일반미션            2;4   \n",
       "3     2023-05-01     NaN    서울 방문/수도권 외 거주/39세 이하/나홀로 여행/일반미션            3;6   \n",
       "4     2023-05-01     NaN        서울 방문/수도권 외 거주/40세 이상/커플/일반미션           1;21   \n",
       "\n",
       "  TRAVEL_MISSION_CHECK  \n",
       "0               3;4;11  \n",
       "1             21;10;27  \n",
       "2               22;1;7  \n",
       "3                6;3;1  \n",
       "4               6;2;24  "
      ]
     },
     "execution_count": 15,
     "metadata": {},
     "output_type": "execute_result"
    }
   ],
   "source": [
    "tn_travel.head()"
   ]
  },
  {
   "cell_type": "code",
   "execution_count": 16,
   "id": "c6654e9e-e683-4b01-be75-ce57fbb402e3",
   "metadata": {},
   "outputs": [
    {
     "name": "stdout",
     "output_type": "stream",
     "text": [
      "item: 2304300002\n",
      "user: e000004\n",
      "score: 3.0\n"
     ]
    }
   ],
   "source": [
    "print('item:', visit_area_sample['VISIT_AREA_ID'])\n",
    "travel = tn_travel[tn_travel['TRAVEL_ID'] == visit_area_sample['TRAVEL_ID']]\n",
    "print('user:', travel['TRAVELER_ID'].values[0])\n",
    "print('score:', visit_area_sample['REVISIT_INTENTION'])"
   ]
  },
  {
   "cell_type": "code",
   "execution_count": 17,
   "id": "e147a567-8364-47d4-b575-d860760155c7",
   "metadata": {},
   "outputs": [],
   "source": [
    "from tqdm import tqdm"
   ]
  },
  {
   "cell_type": "code",
   "execution_count": 18,
   "id": "dbab869c-f319-44ab-93f1-a0d858a19327",
   "metadata": {},
   "outputs": [
    {
     "name": "stderr",
     "output_type": "stream",
     "text": [
      "6303it [00:00, 6502.36it/s]\n"
     ]
    },
    {
     "data": {
      "text/plain": [
       "[('e000004', 2304300002, 3.0),\n",
       " ('e000004', 2304300003, 4.0),\n",
       " ('e000004', 2304300004, 3.0),\n",
       " ('e000006', 2304300004, 5.0),\n",
       " ('e000009', 2304290002, 4.0),\n",
       " ('e000009', 2304290003, 5.0),\n",
       " ('e000009', 2304300003, 5.0),\n",
       " ('e000010', 2304290006, 4.0),\n",
       " ('e000010', 2304290009, 3.0),\n",
       " ('e000010', 2304300001, 5.0)]"
      ]
     },
     "execution_count": 18,
     "metadata": {},
     "output_type": "execute_result"
    }
   ],
   "source": [
    "# Make a list of (user, item, rating) tuples\n",
    "dataset = []\n",
    "\n",
    "for index, row in tqdm(tn_visit_area_info_travel.iterrows()):\n",
    "    travel = tn_travel[tn_travel['TRAVEL_ID'] == row['TRAVEL_ID']]\n",
    "    dataset.append((travel['TRAVELER_ID'].values[0], row['VISIT_AREA_ID'], row['REVISIT_INTENTION']))\n",
    "\n",
    "dataset[:10]"
   ]
  },
  {
   "cell_type": "code",
   "execution_count": 1,
   "id": "d91c8b87-66f6-47b0-9773-2a45bc293ff6",
   "metadata": {},
   "outputs": [
    {
     "name": "stdout",
     "output_type": "stream",
     "text": [
      "Requirement already satisfied: cornac in /opt/homebrew/lib/python3.12/site-packages (2.2.2)\n",
      "Requirement already satisfied: numpy<2.0.0 in /opt/homebrew/lib/python3.12/site-packages (from cornac) (1.26.4)\n",
      "Requirement already satisfied: scipy<=1.13.1 in /opt/homebrew/lib/python3.12/site-packages (from cornac) (1.13.1)\n",
      "Requirement already satisfied: tqdm in /opt/homebrew/lib/python3.12/site-packages (from cornac) (4.66.2)\n",
      "Requirement already satisfied: powerlaw in /opt/homebrew/lib/python3.12/site-packages (from cornac) (1.5)\n",
      "Requirement already satisfied: matplotlib in /opt/homebrew/lib/python3.12/site-packages (from powerlaw->cornac) (3.8.4)\n",
      "Requirement already satisfied: mpmath in /opt/homebrew/lib/python3.12/site-packages (from powerlaw->cornac) (1.3.0)\n",
      "Requirement already satisfied: contourpy>=1.0.1 in /opt/homebrew/lib/python3.12/site-packages (from matplotlib->powerlaw->cornac) (1.2.1)\n",
      "Requirement already satisfied: cycler>=0.10 in /opt/homebrew/lib/python3.12/site-packages (from matplotlib->powerlaw->cornac) (0.12.1)\n",
      "Requirement already satisfied: fonttools>=4.22.0 in /opt/homebrew/lib/python3.12/site-packages (from matplotlib->powerlaw->cornac) (4.51.0)\n",
      "Requirement already satisfied: kiwisolver>=1.3.1 in /opt/homebrew/lib/python3.12/site-packages (from matplotlib->powerlaw->cornac) (1.4.5)\n",
      "Requirement already satisfied: packaging>=20.0 in /opt/homebrew/lib/python3.12/site-packages (from matplotlib->powerlaw->cornac) (23.2)\n",
      "Requirement already satisfied: pillow>=8 in /opt/homebrew/lib/python3.12/site-packages (from matplotlib->powerlaw->cornac) (10.2.0)\n",
      "Requirement already satisfied: pyparsing>=2.3.1 in /opt/homebrew/lib/python3.12/site-packages (from matplotlib->powerlaw->cornac) (3.1.2)\n",
      "Requirement already satisfied: python-dateutil>=2.7 in /opt/homebrew/lib/python3.12/site-packages (from matplotlib->powerlaw->cornac) (2.8.2)\n",
      "Requirement already satisfied: six>=1.5 in /opt/homebrew/lib/python3.12/site-packages (from python-dateutil>=2.7->matplotlib->powerlaw->cornac) (1.16.0)\n"
     ]
    }
   ],
   "source": [
    "!pip install cornac"
   ]
  },
  {
   "cell_type": "markdown",
   "id": "aec6c887-44f4-4039-8e51-a72ade75d575",
   "metadata": {},
   "source": [
    "## 기본 모델 학습"
   ]
  },
  {
   "cell_type": "code",
   "execution_count": 21,
   "id": "451dcb08-fb4c-4b23-b0c2-55c57d56676d",
   "metadata": {},
   "outputs": [
    {
     "name": "stdout",
     "output_type": "stream",
     "text": [
      "rating_threshold = 4.0\n",
      "exclude_unknowns = True\n",
      "---\n",
      "Training data:\n",
      "Number of users = 2237\n",
      "Number of items = 1023\n",
      "Number of ratings = 5042\n",
      "Max rating = 5.0\n",
      "Min rating = 1.0\n",
      "Global mean = 4.2\n",
      "---\n",
      "Test data:\n",
      "Number of users = 2237\n",
      "Number of items = 1023\n",
      "Number of ratings = 982\n",
      "Number of unknown users = 0\n",
      "Number of unknown items = 0\n",
      "---\n",
      "Total users = 2237\n",
      "Total items = 1023\n",
      "\n",
      "[MF] Training started!\n"
     ]
    },
    {
     "data": {
      "application/vnd.jupyter.widget-view+json": {
       "model_id": "211a81ac93164804ba9c7c2d95cbc510",
       "version_major": 2,
       "version_minor": 0
      },
      "text/plain": [
       "  0%|          | 0/50 [00:00<?, ?it/s]"
      ]
     },
     "metadata": {},
     "output_type": "display_data"
    },
    {
     "name": "stdout",
     "output_type": "stream",
     "text": [
      "Optimization finished!\n",
      "\n",
      "[MF] Evaluation started!\n"
     ]
    },
    {
     "data": {
      "application/vnd.jupyter.widget-view+json": {
       "model_id": "a127dc3ad0e548a79e68ef8968ed24bb",
       "version_major": 2,
       "version_minor": 0
      },
      "text/plain": [
       "Rating:   0%|          | 0/982 [00:00<?, ?it/s]"
      ]
     },
     "metadata": {},
     "output_type": "display_data"
    },
    {
     "data": {
      "application/vnd.jupyter.widget-view+json": {
       "model_id": "6c42f01cf37d4b5d96f94cd24dad32af",
       "version_major": 2,
       "version_minor": 0
      },
      "text/plain": [
       "Ranking:   0%|          | 0/772 [00:00<?, ?it/s]"
      ]
     },
     "metadata": {},
     "output_type": "display_data"
    },
    {
     "name": "stdout",
     "output_type": "stream",
     "text": [
      "\n",
      "TEST:\n",
      "...\n",
      "   |    MAE |   RMSE | Precision@10 | Recall@10 | Train (s) | Test (s)\n",
      "-- + ------ + ------ + ------------ + --------- + --------- + --------\n",
      "MF | 0.7251 | 0.7426 |       0.0015 |    0.0113 |    0.0318 |   0.1502\n",
      "\n"
     ]
    }
   ],
   "source": [
    "import cornac\n",
    "from cornac.eval_methods import RatioSplit\n",
    "from cornac.models import MF\n",
    "from cornac.metrics import RMSE, MAE, Precision, Recall\n",
    "\n",
    "# 평가 방법 설정: 훈련 80%, 테스트 20%\n",
    "ratio_split = RatioSplit(data=dataset, test_size=0.2, rating_threshold=4.0, verbose=True)\n",
    "\n",
    "# Matrix Factorization (MF) 모델 생성\n",
    "mf_model = MF(k=10, max_iter=50, learning_rate=0.01, lambda_reg=0.02, verbose=True)\n",
    "\n",
    "# 성능 평가를 위한 실험 설정\n",
    "exp = cornac.Experiment(eval_method=ratio_split, models=[mf_model], metrics=[RMSE(), MAE(), Precision(k=10), Recall(k=10)])\n",
    "\n",
    "# 모델 학습 및 평가\n",
    "exp.run()"
   ]
  },
  {
   "cell_type": "markdown",
   "id": "164f2eef-902b-46ad-b710-539c25f5201a",
   "metadata": {},
   "source": [
    "## 모델 성능 비교\n",
    "ref: https://github.com/PreferredAI/cornac, https://github.com/aiwizard-2/RecommendationSystem_Cornac"
   ]
  },
  {
   "cell_type": "code",
   "execution_count": 37,
   "id": "b375a474-51c6-4e22-bf64-06aa1901f361",
   "metadata": {},
   "outputs": [
    {
     "data": {
      "application/vnd.jupyter.widget-view+json": {
       "model_id": "ff61683de76c407c82263708a03b3604",
       "version_major": 2,
       "version_minor": 0
      },
      "text/plain": [
       "  0%|          | 0/100 [00:00<?, ?it/s]"
      ]
     },
     "metadata": {},
     "output_type": "display_data"
    },
    {
     "data": {
      "application/vnd.jupyter.widget-view+json": {
       "model_id": "ef7ec3f025e14a3d9a4cf41c7809c02b",
       "version_major": 2,
       "version_minor": 0
      },
      "text/plain": [
       "  0%|          | 0/1011 [00:00<?, ?it/s]"
      ]
     },
     "metadata": {},
     "output_type": "display_data"
    },
    {
     "name": "stdout",
     "output_type": "stream",
     "text": [
      "\n",
      "TEST:\n",
      "...\n",
      "             |    MAE |   RMSE |    AUC |    MAP | NDCG@10 | Precision@10 | Recall@10 | Train (s) | Test (s)\n",
      "------------ + ------ + ------ + ------ + ------ + ------- + ------------ + --------- + --------- + --------\n",
      "MF           | 0.7196 | 0.7375 | 0.5084 | 0.0060 |  0.0031 |       0.0010 |    0.0080 |    0.0045 |   0.2233\n",
      "PMF          | 1.1078 | 1.1278 | 0.7247 | 0.0944 |  0.1097 |       0.0244 |    0.1969 |    0.0647 |   0.3013\n",
      "BPR          | 3.0389 | 3.0561 | 0.7788 | 0.0482 |  0.0465 |       0.0096 |    0.0822 |    0.0684 |   0.3037\n",
      "VAECF        | 3.1141 | 3.1318 | 0.8889 | 0.1050 |  0.1198 |       0.0271 |    0.2264 |    4.9867 |   0.3331\n",
      "ItemKNN-BM25 | 0.6939 | 0.7208 | 0.6835 | 0.1115 |  0.2766 |       0.0612 |    0.5174 |    0.0203 |   0.4368\n",
      "\n"
     ]
    }
   ],
   "source": [
    "import cornac\n",
    "\n",
    "# Split data based on ratio\n",
    "rs = cornac.eval_methods.RatioSplit(\n",
    "    data=dataset, test_size=0.2, rating_threshold=4.0, seed=123\n",
    ")\n",
    "\n",
    "# Here we are comparing biased MF, PMF, and BPR\n",
    "mf = cornac.models.MF(\n",
    "    k=10, max_iter=25, learning_rate=0.01, lambda_reg=0.02, use_bias=True, seed=123\n",
    ")\n",
    "pmf = cornac.models.PMF(\n",
    "    k=10, max_iter=100, learning_rate=0.001, lambda_reg=0.001, seed=123\n",
    ")\n",
    "bpr = cornac.models.BPR(\n",
    "    k=10, max_iter=200, learning_rate=0.001, lambda_reg=0.01, seed=123\n",
    ")\n",
    "\n",
    "most_pop = cornac.models.MostPop()\n",
    "\n",
    "item_knn_bm25 = cornac.models.ItemKNN(\n",
    "        k=100, similarity=\"cosine\", weighting=\"bm25\", name=\"ItemKNN-BM25\"\n",
    "    )\n",
    "bpr = cornac.models.BPR(k=10, max_iter=200, learning_rate=0.001, lambda_reg=0.01, seed=123)\n",
    "wmf = cornac.models.WMF(\n",
    "    k=5,\n",
    "    max_iter=50,\n",
    "    learning_rate=0.001,\n",
    "    lambda_u=0.01,\n",
    "    lambda_v=0.01,\n",
    "    verbose=True,\n",
    "    seed=123,\n",
    ")\n",
    "vaecf = cornac.models.VAECF(\n",
    "    k=5,\n",
    "    autoencoder_structure=[20],\n",
    "    act_fn=\"tanh\",\n",
    "    likelihood=\"mult\",\n",
    "    n_epochs=100,\n",
    "    batch_size=100,\n",
    "    learning_rate=0.001,\n",
    "    beta=1.0,\n",
    "    seed=123,\n",
    "    use_gpu=True,\n",
    "    verbose=True,\n",
    ")\n",
    "\n",
    "# Define metrics used to evaluate the models\n",
    "mae = cornac.metrics.MAE()\n",
    "rmse = cornac.metrics.RMSE()\n",
    "prec = cornac.metrics.Precision(k=10)\n",
    "recall = cornac.metrics.Recall(k=10)\n",
    "ndcg = cornac.metrics.NDCG(k=10)\n",
    "auc = cornac.metrics.AUC()\n",
    "mAP = cornac.metrics.MAP()\n",
    "\n",
    "# Put it together into an experiment and run\n",
    "cornac.Experiment(\n",
    "    eval_method=rs,\n",
    "    models=[mf, pmf, bpr, vaecf, item_knn_bm25],\n",
    "    metrics=[mae, rmse, prec, recall, ndcg, auc, mAP],\n",
    "    user_based=True,\n",
    ").run()"
   ]
  },
  {
   "cell_type": "markdown",
   "id": "178db7e9-ca54-4d08-a995-d7db70821e61",
   "metadata": {},
   "source": [
    "## Recall TOP2 Model Inference"
   ]
  },
  {
   "cell_type": "code",
   "execution_count": 108,
   "id": "5bf9022c-8a48-4791-adea-0e5d8417d0d0",
   "metadata": {},
   "outputs": [
    {
     "name": "stdout",
     "output_type": "stream",
     "text": [
      "Recommendation for user e000010 using model: vaecf\n",
      "[2308040002, 2304300003, 2308030005, 2304290006, 2308300005]\n",
      "------------------------------------------------------------\n",
      "Recommendation for user e000010 using model: item_knn_bm25\n",
      "[2305010002, 2304280002, 2305010005, 2304300004, 2304290003]\n"
     ]
    }
   ],
   "source": [
    "# 특정 사용자(예: e000010)에 대한 추천 생성\n",
    "user_id = 'e000010'\n",
    "num = 5\n",
    "recs_vaecf = vaecf.recommend(user_id=user_id, k=num)\n",
    "recs_itemknn = item_knn_bm25.recommend(user_id=user_id, k=num)\n",
    "\n",
    "print(f\"Recommendation for user {user_id} using model: vaecf\")\n",
    "print(recs_vaecf)\n",
    "print(\"------------------------------------------------------------\")\n",
    "print(f\"Recommendation for user {user_id} using model: item_knn_bm25\")\n",
    "print(recs_itemknn)"
   ]
  },
  {
   "cell_type": "code",
   "execution_count": 109,
   "id": "a138c565-0ee8-4711-9b96-3719093e477f",
   "metadata": {},
   "outputs": [
    {
     "name": "stdout",
     "output_type": "stream",
     "text": [
      "Top 3 similar items to item 2304300002: [2307010005]\n"
     ]
    }
   ],
   "source": [
    "# item_knn_bm25에 대해서 특정 아이템에 대한 유사 아이템 찾기\n",
    "item_id = 2304300002\n",
    "k = 3\n",
    "\n",
    "# 아이템의 유사도 행렬에서 유사 아이템 찾기\n",
    "# sim_mat 속성은 아이템 간의 유사도 행렬을 제공합니다.\n",
    "if item_knn_bm25.sim_mat is not None:\n",
    "    item_idx = item_knn_bm25.item_ids.index(item_id)  # 아이템의 인덱스 찾기\n",
    "    sim_scores = item_knn_bm25.sim_mat[item_idx]  # 해당 아이템의 유사도 벡터\n",
    "    \n",
    "    # 유사도와 아이템 ID의 쌍을 리스트로 만들기\n",
    "    item_sim_scores = list(enumerate(sim_scores))\n",
    "    \n",
    "    # 유사도에 따라 상위 K개의 아이템 선택\n",
    "    item_sim_scores.sort(key=lambda x: x[1], reverse=True)\n",
    "    top_items = [item_knn_bm25.item_ids[i] for i, score in item_sim_scores[:k] if i != item_idx]\n",
    "    \n",
    "    print(f\"Top {k} similar items to item {item_id}: {top_items}\")\n",
    "else:\n",
    "    print(\"Similarity matrix is not available.\")"
   ]
  },
  {
   "cell_type": "code",
   "execution_count": 2,
   "id": "4629495a-4b28-4a3c-96a8-5f4ef2222235",
   "metadata": {},
   "outputs": [
    {
     "name": "stdout",
     "output_type": "stream",
     "text": [
      "Collecting pipreqs\n",
      "  Downloading pipreqs-0.5.0-py3-none-any.whl.metadata (7.9 kB)\n",
      "Collecting docopt==0.6.2 (from pipreqs)\n",
      "  Downloading docopt-0.6.2.tar.gz (25 kB)\n",
      "  Preparing metadata (setup.py) ... \u001b[?25ldone\n",
      "\u001b[?25hCollecting ipython==8.12.3 (from pipreqs)\n",
      "  Downloading ipython-8.12.3-py3-none-any.whl.metadata (5.7 kB)\n",
      "Requirement already satisfied: nbconvert<8.0.0,>=7.11.0 in /opt/homebrew/lib/python3.12/site-packages (from pipreqs) (7.16.0)\n",
      "Collecting yarg==0.1.9 (from pipreqs)\n",
      "  Downloading yarg-0.1.9-py2.py3-none-any.whl.metadata (4.6 kB)\n",
      "Collecting backcall (from ipython==8.12.3->pipreqs)\n",
      "  Downloading backcall-0.2.0-py2.py3-none-any.whl.metadata (2.0 kB)\n",
      "Requirement already satisfied: decorator in /opt/homebrew/lib/python3.12/site-packages (from ipython==8.12.3->pipreqs) (5.1.1)\n",
      "Requirement already satisfied: jedi>=0.16 in /opt/homebrew/lib/python3.12/site-packages (from ipython==8.12.3->pipreqs) (0.19.1)\n",
      "Requirement already satisfied: matplotlib-inline in /opt/homebrew/lib/python3.12/site-packages (from ipython==8.12.3->pipreqs) (0.1.6)\n",
      "Collecting pickleshare (from ipython==8.12.3->pipreqs)\n",
      "  Downloading pickleshare-0.7.5-py2.py3-none-any.whl.metadata (1.5 kB)\n",
      "Requirement already satisfied: prompt-toolkit!=3.0.37,<3.1.0,>=3.0.30 in /opt/homebrew/lib/python3.12/site-packages (from ipython==8.12.3->pipreqs) (3.0.43)\n",
      "Requirement already satisfied: pygments>=2.4.0 in /opt/homebrew/lib/python3.12/site-packages (from ipython==8.12.3->pipreqs) (2.17.2)\n",
      "Requirement already satisfied: stack-data in /opt/homebrew/lib/python3.12/site-packages (from ipython==8.12.3->pipreqs) (0.6.3)\n",
      "Requirement already satisfied: traitlets>=5 in /opt/homebrew/lib/python3.12/site-packages (from ipython==8.12.3->pipreqs) (5.14.1)\n",
      "Requirement already satisfied: pexpect>4.3 in /opt/homebrew/lib/python3.12/site-packages (from ipython==8.12.3->pipreqs) (4.9.0)\n",
      "Requirement already satisfied: appnope in /opt/homebrew/lib/python3.12/site-packages (from ipython==8.12.3->pipreqs) (0.1.4)\n",
      "Requirement already satisfied: requests in /opt/homebrew/lib/python3.12/site-packages (from yarg==0.1.9->pipreqs) (2.31.0)\n",
      "Requirement already satisfied: beautifulsoup4 in /opt/homebrew/lib/python3.12/site-packages (from nbconvert<8.0.0,>=7.11.0->pipreqs) (4.12.3)\n",
      "Requirement already satisfied: bleach!=5.0.0 in /opt/homebrew/lib/python3.12/site-packages (from nbconvert<8.0.0,>=7.11.0->pipreqs) (6.1.0)\n",
      "Requirement already satisfied: defusedxml in /opt/homebrew/lib/python3.12/site-packages (from nbconvert<8.0.0,>=7.11.0->pipreqs) (0.7.1)\n",
      "Requirement already satisfied: jinja2>=3.0 in /opt/homebrew/lib/python3.12/site-packages (from nbconvert<8.0.0,>=7.11.0->pipreqs) (3.1.2)\n",
      "Requirement already satisfied: jupyter-core>=4.7 in /opt/homebrew/lib/python3.12/site-packages (from nbconvert<8.0.0,>=7.11.0->pipreqs) (5.7.1)\n",
      "Requirement already satisfied: jupyterlab-pygments in /opt/homebrew/lib/python3.12/site-packages (from nbconvert<8.0.0,>=7.11.0->pipreqs) (0.3.0)\n",
      "Requirement already satisfied: markupsafe>=2.0 in /opt/homebrew/lib/python3.12/site-packages (from nbconvert<8.0.0,>=7.11.0->pipreqs) (2.1.3)\n",
      "Requirement already satisfied: mistune<4,>=2.0.3 in /opt/homebrew/lib/python3.12/site-packages (from nbconvert<8.0.0,>=7.11.0->pipreqs) (3.0.2)\n",
      "Requirement already satisfied: nbclient>=0.5.0 in /opt/homebrew/lib/python3.12/site-packages (from nbconvert<8.0.0,>=7.11.0->pipreqs) (0.9.0)\n",
      "Requirement already satisfied: nbformat>=5.7 in /opt/homebrew/lib/python3.12/site-packages (from nbconvert<8.0.0,>=7.11.0->pipreqs) (5.9.2)\n",
      "Requirement already satisfied: packaging in /opt/homebrew/lib/python3.12/site-packages (from nbconvert<8.0.0,>=7.11.0->pipreqs) (23.2)\n",
      "Requirement already satisfied: pandocfilters>=1.4.1 in /opt/homebrew/lib/python3.12/site-packages (from nbconvert<8.0.0,>=7.11.0->pipreqs) (1.5.1)\n",
      "Requirement already satisfied: tinycss2 in /opt/homebrew/lib/python3.12/site-packages (from nbconvert<8.0.0,>=7.11.0->pipreqs) (1.2.1)\n",
      "Requirement already satisfied: six>=1.9.0 in /opt/homebrew/lib/python3.12/site-packages (from bleach!=5.0.0->nbconvert<8.0.0,>=7.11.0->pipreqs) (1.16.0)\n",
      "Requirement already satisfied: webencodings in /opt/homebrew/lib/python3.12/site-packages (from bleach!=5.0.0->nbconvert<8.0.0,>=7.11.0->pipreqs) (0.5.1)\n",
      "Requirement already satisfied: parso<0.9.0,>=0.8.3 in /opt/homebrew/lib/python3.12/site-packages (from jedi>=0.16->ipython==8.12.3->pipreqs) (0.8.3)\n",
      "Requirement already satisfied: platformdirs>=2.5 in /opt/homebrew/lib/python3.12/site-packages (from jupyter-core>=4.7->nbconvert<8.0.0,>=7.11.0->pipreqs) (4.1.0)\n",
      "Requirement already satisfied: jupyter-client>=6.1.12 in /opt/homebrew/lib/python3.12/site-packages (from nbclient>=0.5.0->nbconvert<8.0.0,>=7.11.0->pipreqs) (8.6.0)\n",
      "Requirement already satisfied: fastjsonschema in /opt/homebrew/lib/python3.12/site-packages (from nbformat>=5.7->nbconvert<8.0.0,>=7.11.0->pipreqs) (2.19.1)\n",
      "Requirement already satisfied: jsonschema>=2.6 in /opt/homebrew/lib/python3.12/site-packages (from nbformat>=5.7->nbconvert<8.0.0,>=7.11.0->pipreqs) (4.21.1)\n",
      "Requirement already satisfied: ptyprocess>=0.5 in /opt/homebrew/lib/python3.12/site-packages (from pexpect>4.3->ipython==8.12.3->pipreqs) (0.7.0)\n",
      "Requirement already satisfied: wcwidth in /opt/homebrew/lib/python3.12/site-packages (from prompt-toolkit!=3.0.37,<3.1.0,>=3.0.30->ipython==8.12.3->pipreqs) (0.2.13)\n",
      "Requirement already satisfied: soupsieve>1.2 in /opt/homebrew/lib/python3.12/site-packages (from beautifulsoup4->nbconvert<8.0.0,>=7.11.0->pipreqs) (2.5)\n",
      "Requirement already satisfied: charset-normalizer<4,>=2 in /opt/homebrew/lib/python3.12/site-packages (from requests->yarg==0.1.9->pipreqs) (3.3.2)\n",
      "Requirement already satisfied: idna<4,>=2.5 in /opt/homebrew/lib/python3.12/site-packages (from requests->yarg==0.1.9->pipreqs) (3.6)\n",
      "Requirement already satisfied: urllib3<3,>=1.21.1 in /opt/homebrew/lib/python3.12/site-packages (from requests->yarg==0.1.9->pipreqs) (1.26.7)\n",
      "Requirement already satisfied: certifi>=2017.4.17 in /opt/homebrew/lib/python3.12/site-packages (from requests->yarg==0.1.9->pipreqs) (2023.11.17)\n",
      "Requirement already satisfied: executing>=1.2.0 in /opt/homebrew/lib/python3.12/site-packages (from stack-data->ipython==8.12.3->pipreqs) (2.0.1)\n",
      "Requirement already satisfied: asttokens>=2.1.0 in /opt/homebrew/lib/python3.12/site-packages (from stack-data->ipython==8.12.3->pipreqs) (2.4.1)\n",
      "Requirement already satisfied: pure-eval in /opt/homebrew/lib/python3.12/site-packages (from stack-data->ipython==8.12.3->pipreqs) (0.2.2)\n",
      "Requirement already satisfied: attrs>=22.2.0 in /opt/homebrew/lib/python3.12/site-packages (from jsonschema>=2.6->nbformat>=5.7->nbconvert<8.0.0,>=7.11.0->pipreqs) (23.2.0)\n",
      "Requirement already satisfied: jsonschema-specifications>=2023.03.6 in /opt/homebrew/lib/python3.12/site-packages (from jsonschema>=2.6->nbformat>=5.7->nbconvert<8.0.0,>=7.11.0->pipreqs) (2023.12.1)\n",
      "Requirement already satisfied: referencing>=0.28.4 in /opt/homebrew/lib/python3.12/site-packages (from jsonschema>=2.6->nbformat>=5.7->nbconvert<8.0.0,>=7.11.0->pipreqs) (0.33.0)\n",
      "Requirement already satisfied: rpds-py>=0.7.1 in /opt/homebrew/lib/python3.12/site-packages (from jsonschema>=2.6->nbformat>=5.7->nbconvert<8.0.0,>=7.11.0->pipreqs) (0.17.1)\n",
      "Requirement already satisfied: python-dateutil>=2.8.2 in /opt/homebrew/lib/python3.12/site-packages (from jupyter-client>=6.1.12->nbclient>=0.5.0->nbconvert<8.0.0,>=7.11.0->pipreqs) (2.8.2)\n",
      "Requirement already satisfied: pyzmq>=23.0 in /opt/homebrew/lib/python3.12/site-packages (from jupyter-client>=6.1.12->nbclient>=0.5.0->nbconvert<8.0.0,>=7.11.0->pipreqs) (25.1.2)\n",
      "Requirement already satisfied: tornado>=6.2 in /opt/homebrew/lib/python3.12/site-packages (from jupyter-client>=6.1.12->nbclient>=0.5.0->nbconvert<8.0.0,>=7.11.0->pipreqs) (6.4)\n",
      "Downloading pipreqs-0.5.0-py3-none-any.whl (33 kB)\n",
      "Downloading ipython-8.12.3-py3-none-any.whl (798 kB)\n",
      "\u001b[2K   \u001b[38;2;114;156;31m━━━━━━━━━━━━━━━━━━━━━━━━━━━━━━━━━━━━━━━━\u001b[0m \u001b[32m798.3/798.3 kB\u001b[0m \u001b[31m24.3 MB/s\u001b[0m eta \u001b[36m0:00:00\u001b[0m\n",
      "\u001b[?25hDownloading yarg-0.1.9-py2.py3-none-any.whl (19 kB)\n",
      "Downloading backcall-0.2.0-py2.py3-none-any.whl (11 kB)\n",
      "Downloading pickleshare-0.7.5-py2.py3-none-any.whl (6.9 kB)\n",
      "Building wheels for collected packages: docopt\n",
      "  Building wheel for docopt (setup.py) ... \u001b[?25ldone\n",
      "\u001b[?25h  Created wheel for docopt: filename=docopt-0.6.2-py2.py3-none-any.whl size=13706 sha256=48878382d17a088dfd7632e502e22e8956785c343eaed3421a7e162925215bb1\n",
      "  Stored in directory: /Users/yang-eunseo/Library/Caches/pip/wheels/1a/bf/a1/4cee4f7678c68c5875ca89eaccf460593539805c3906722228\n",
      "Successfully built docopt\n",
      "Installing collected packages: pickleshare, docopt, backcall, yarg, ipython, pipreqs\n",
      "  Attempting uninstall: ipython\n",
      "    Found existing installation: ipython 8.18.1\n",
      "    Uninstalling ipython-8.18.1:\n",
      "      Successfully uninstalled ipython-8.18.1\n",
      "Successfully installed backcall-0.2.0 docopt-0.6.2 ipython-8.12.3 pickleshare-0.7.5 pipreqs-0.5.0 yarg-0.1.9\n"
     ]
    }
   ],
   "source": [
    "!pip install pipreqs"
   ]
  },
  {
   "cell_type": "code",
   "execution_count": 3,
   "id": "8d0f8e5c-4305-4253-8cc4-7cb413f56752",
   "metadata": {},
   "outputs": [
    {
     "name": "stdout",
     "output_type": "stream",
     "text": [
      "INFO: Not scanning for jupyter notebooks.\n",
      "WARNING: Import named \"numpy\" not found locally. Trying to resolve it at the PyPI server.\n",
      "WARNING: Import named \"numpy\" was resolved to \"numpy:2.1.0\" package (https://pypi.org/project/numpy/).\n",
      "Please, verify manually the final list of requirements.txt to avoid possible dependency confusions.\n",
      "INFO: Successfully saved requirements file in /Users/yang-eunseo/python/AIProject/requirements.txt\n"
     ]
    }
   ],
   "source": [
    "!pipreqs \"/Users/yang-eunseo/python/AIProject\"\n"
   ]
  },
  {
   "cell_type": "code",
   "execution_count": null,
   "id": "b869b0bd-4514-4754-a40f-19a4187a7c66",
   "metadata": {},
   "outputs": [],
   "source": []
  }
 ],
 "metadata": {
  "kernelspec": {
   "display_name": "Python 3 (ipykernel)",
   "language": "python",
   "name": "python3"
  },
  "language_info": {
   "codemirror_mode": {
    "name": "ipython",
    "version": 3
   },
   "file_extension": ".py",
   "mimetype": "text/x-python",
   "name": "python",
   "nbconvert_exporter": "python",
   "pygments_lexer": "ipython3",
   "version": "3.12.4"
  }
 },
 "nbformat": 4,
 "nbformat_minor": 5
}
